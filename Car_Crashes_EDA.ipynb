{
 "cells": [
  {
   "cell_type": "markdown",
   "id": "bfded7a6",
   "metadata": {},
   "source": [
    "# Chicago Car Crashes Project\n",
    "\n",
    "## Business Understanding\n",
    "\n",
    "### One of the purposes of having vehicle crash data is to; Better public safety, Improve urban planning, and Improve policy making\n",
    "\n",
    "### Some of the possible business questions that can be derived from the data include, \n",
    "\n",
    "#### 1. What factors contribute most to severe crashes?\n",
    "#### 2. Which locations, times, and conditions are accident prone?\n",
    "#### 3. Are certain groups more vulnerable to crashes?\n",
    "#### 4. Which vehcile types are most involved in severe or fatal crashes?\n",
    "#### 5. How do some behaviors impact crashes e.g seatbelt use, intoxication, or distractions affect injury severity?\n",
    "#### 6. How can the data being assessed be used to assist the police, hospitals, and city planners target interventions? \n",
    "\n",
    "## Problem Statement\n",
    "#### Pinpoint crash hotspots in Chicago and understand contributing factors to assists city planners and law enforcement to minimize accidents.\n",
    "\n",
    "## Metric for Success\n",
    "\n",
    "### Sucessfully answering the above business questions will be a a significant advantage.\n",
    "### Another metric will be making a hotspot analysis that accurately pinpoints high_risk zones for crashes. \n",
    "## Real World Use Case\n",
    "### could be in assisting governments and city planners on the regions that they need to install cameras, improve lighting, and redesign road structures in hotspots.\n",
    "\n",
    "\n",
    "### Considering that lives are involved and this is my first official model, an accuracy of 80% will be considered sufficient.\n",
    "\n",
    "## Data Understanding\n",
    "\n"
   ]
  },
  {
   "cell_type": "code",
   "execution_count": 88,
   "id": "c07301e1",
   "metadata": {},
   "outputs": [],
   "source": [
    "#import the libraries\n",
    "import pandas as pd \n",
    "import numpy as np \n",
    "import seaborn as sns \n",
    "import matplotlib.pyplot as plt \n",
    "%matplotlib inline\n",
    "import warnings \n",
    "warnings.filterwarnings(\"ignore\")\n",
    "\n",
    "#import sklearn libraries\n",
    "from sklearn.preprocessing import LabelEncoder, OneHotEncoder, StandardScaler, MinMaxScaler\n",
    "from sklearn.model_selection import train_test_split\n",
    "from imblearn.over_sampling import SMOTE, SMOTEN\n",
    "from sklearn.linear_model import LogisticRegression\n",
    "from sklearn.tree import DecisionTreeClassifier\n",
    "from sklearn.ensemble import RandomForestClassifier\n",
    "from sklearn.model_selection import GridSearchCV, RandomizedSearchCV\n",
    "from scipy.stats import randint\n",
    "from sklearn.metrics import accuracy_score, precision_score, recall_score, f1_score, confusion_matrix, classification_report,roc_auc_score, roc_curve\n",
    "from sklearn.pipeline import Pipeline"
   ]
  },
  {
   "cell_type": "code",
   "execution_count": 89,
   "id": "c4753b2f",
   "metadata": {},
   "outputs": [],
   "source": [
    "# load the datasets\n",
    "people_data = pd.read_csv(\"Traffic_Crashes_People.csv\", low_memory=False)\n",
    "vehicles_data = pd.read_csv(\"Traffic_Crashes_Vehicles.csv\", low_memory=False)\n",
    "crashes_data = pd.read_csv(\"Traffic_Crashes_Crashes.csv\", low_memory=False)"
   ]
  },
  {
   "cell_type": "code",
   "execution_count": 90,
   "id": "f12bd048",
   "metadata": {},
   "outputs": [
    {
     "data": {
      "text/html": [
       "<div>\n",
       "<style scoped>\n",
       "    .dataframe tbody tr th:only-of-type {\n",
       "        vertical-align: middle;\n",
       "    }\n",
       "\n",
       "    .dataframe tbody tr th {\n",
       "        vertical-align: top;\n",
       "    }\n",
       "\n",
       "    .dataframe thead th {\n",
       "        text-align: right;\n",
       "    }\n",
       "</style>\n",
       "<table border=\"1\" class=\"dataframe\">\n",
       "  <thead>\n",
       "    <tr style=\"text-align: right;\">\n",
       "      <th></th>\n",
       "      <th>PERSON_ID</th>\n",
       "      <th>PERSON_TYPE</th>\n",
       "      <th>CRASH_RECORD_ID</th>\n",
       "      <th>VEHICLE_ID</th>\n",
       "      <th>CRASH_DATE</th>\n",
       "      <th>SEAT_NO</th>\n",
       "      <th>CITY</th>\n",
       "      <th>STATE</th>\n",
       "      <th>ZIPCODE</th>\n",
       "      <th>SEX</th>\n",
       "      <th>...</th>\n",
       "      <th>EMS_RUN_NO</th>\n",
       "      <th>DRIVER_ACTION</th>\n",
       "      <th>DRIVER_VISION</th>\n",
       "      <th>PHYSICAL_CONDITION</th>\n",
       "      <th>PEDPEDAL_ACTION</th>\n",
       "      <th>PEDPEDAL_VISIBILITY</th>\n",
       "      <th>PEDPEDAL_LOCATION</th>\n",
       "      <th>BAC_RESULT</th>\n",
       "      <th>BAC_RESULT VALUE</th>\n",
       "      <th>CELL_PHONE_USE</th>\n",
       "    </tr>\n",
       "  </thead>\n",
       "  <tbody>\n",
       "    <tr>\n",
       "      <th>0</th>\n",
       "      <td>O2146003</td>\n",
       "      <td>DRIVER</td>\n",
       "      <td>95be268b1aaa3b632ce13055264f4c8e2c304ba6d8bdae...</td>\n",
       "      <td>2045728.0</td>\n",
       "      <td>09/07/2025 11:30:00 PM</td>\n",
       "      <td>NaN</td>\n",
       "      <td>UNKNOWN</td>\n",
       "      <td>XX</td>\n",
       "      <td>NaN</td>\n",
       "      <td>X</td>\n",
       "      <td>...</td>\n",
       "      <td>NaN</td>\n",
       "      <td>UNKNOWN</td>\n",
       "      <td>UNKNOWN</td>\n",
       "      <td>UNKNOWN</td>\n",
       "      <td>NaN</td>\n",
       "      <td>NaN</td>\n",
       "      <td>NaN</td>\n",
       "      <td>TEST NOT OFFERED</td>\n",
       "      <td>NaN</td>\n",
       "      <td>NaN</td>\n",
       "    </tr>\n",
       "    <tr>\n",
       "      <th>1</th>\n",
       "      <td>O2146009</td>\n",
       "      <td>DRIVER</td>\n",
       "      <td>bd1f28c916dfca267392818a032e26431679d1e6572495...</td>\n",
       "      <td>2045733.0</td>\n",
       "      <td>09/07/2025 11:30:00 PM</td>\n",
       "      <td>NaN</td>\n",
       "      <td>MIAMI GARGENS</td>\n",
       "      <td>FL</td>\n",
       "      <td>33056</td>\n",
       "      <td>M</td>\n",
       "      <td>...</td>\n",
       "      <td>NaN</td>\n",
       "      <td>FAILED TO YIELD</td>\n",
       "      <td>NOT OBSCURED</td>\n",
       "      <td>NORMAL</td>\n",
       "      <td>NaN</td>\n",
       "      <td>NaN</td>\n",
       "      <td>NaN</td>\n",
       "      <td>TEST NOT OFFERED</td>\n",
       "      <td>NaN</td>\n",
       "      <td>NaN</td>\n",
       "    </tr>\n",
       "    <tr>\n",
       "      <th>2</th>\n",
       "      <td>O2146010</td>\n",
       "      <td>DRIVER</td>\n",
       "      <td>bd1f28c916dfca267392818a032e26431679d1e6572495...</td>\n",
       "      <td>2045748.0</td>\n",
       "      <td>09/07/2025 11:30:00 PM</td>\n",
       "      <td>NaN</td>\n",
       "      <td>CHICAGO</td>\n",
       "      <td>IL</td>\n",
       "      <td>60629</td>\n",
       "      <td>M</td>\n",
       "      <td>...</td>\n",
       "      <td>NaN</td>\n",
       "      <td>NONE</td>\n",
       "      <td>NOT OBSCURED</td>\n",
       "      <td>NORMAL</td>\n",
       "      <td>NaN</td>\n",
       "      <td>NaN</td>\n",
       "      <td>NaN</td>\n",
       "      <td>TEST NOT OFFERED</td>\n",
       "      <td>NaN</td>\n",
       "      <td>NaN</td>\n",
       "    </tr>\n",
       "    <tr>\n",
       "      <th>3</th>\n",
       "      <td>O2146013</td>\n",
       "      <td>DRIVER</td>\n",
       "      <td>a397b6e3872a2695dd20df2318c748fe5e02ba3662b9c0...</td>\n",
       "      <td>2045737.0</td>\n",
       "      <td>09/07/2025 11:26:00 PM</td>\n",
       "      <td>NaN</td>\n",
       "      <td>NaN</td>\n",
       "      <td>NaN</td>\n",
       "      <td>NaN</td>\n",
       "      <td>M</td>\n",
       "      <td>...</td>\n",
       "      <td>NaN</td>\n",
       "      <td>UNKNOWN</td>\n",
       "      <td>UNKNOWN</td>\n",
       "      <td>UNKNOWN</td>\n",
       "      <td>NaN</td>\n",
       "      <td>NaN</td>\n",
       "      <td>NaN</td>\n",
       "      <td>TEST NOT OFFERED</td>\n",
       "      <td>NaN</td>\n",
       "      <td>NaN</td>\n",
       "    </tr>\n",
       "    <tr>\n",
       "      <th>4</th>\n",
       "      <td>O2146014</td>\n",
       "      <td>DRIVER</td>\n",
       "      <td>a397b6e3872a2695dd20df2318c748fe5e02ba3662b9c0...</td>\n",
       "      <td>2045745.0</td>\n",
       "      <td>09/07/2025 11:26:00 PM</td>\n",
       "      <td>NaN</td>\n",
       "      <td>WAUSAU</td>\n",
       "      <td>WI</td>\n",
       "      <td>54401</td>\n",
       "      <td>M</td>\n",
       "      <td>...</td>\n",
       "      <td>NaN</td>\n",
       "      <td>NONE</td>\n",
       "      <td>NOT OBSCURED</td>\n",
       "      <td>NORMAL</td>\n",
       "      <td>NaN</td>\n",
       "      <td>NaN</td>\n",
       "      <td>NaN</td>\n",
       "      <td>TEST NOT OFFERED</td>\n",
       "      <td>NaN</td>\n",
       "      <td>NaN</td>\n",
       "    </tr>\n",
       "  </tbody>\n",
       "</table>\n",
       "<p>5 rows × 29 columns</p>\n",
       "</div>"
      ],
      "text/plain": [
       "  PERSON_ID PERSON_TYPE                                    CRASH_RECORD_ID  \\\n",
       "0  O2146003      DRIVER  95be268b1aaa3b632ce13055264f4c8e2c304ba6d8bdae...   \n",
       "1  O2146009      DRIVER  bd1f28c916dfca267392818a032e26431679d1e6572495...   \n",
       "2  O2146010      DRIVER  bd1f28c916dfca267392818a032e26431679d1e6572495...   \n",
       "3  O2146013      DRIVER  a397b6e3872a2695dd20df2318c748fe5e02ba3662b9c0...   \n",
       "4  O2146014      DRIVER  a397b6e3872a2695dd20df2318c748fe5e02ba3662b9c0...   \n",
       "\n",
       "   VEHICLE_ID              CRASH_DATE  SEAT_NO           CITY STATE ZIPCODE  \\\n",
       "0   2045728.0  09/07/2025 11:30:00 PM      NaN        UNKNOWN    XX     NaN   \n",
       "1   2045733.0  09/07/2025 11:30:00 PM      NaN  MIAMI GARGENS    FL   33056   \n",
       "2   2045748.0  09/07/2025 11:30:00 PM      NaN        CHICAGO    IL   60629   \n",
       "3   2045737.0  09/07/2025 11:26:00 PM      NaN            NaN   NaN     NaN   \n",
       "4   2045745.0  09/07/2025 11:26:00 PM      NaN         WAUSAU    WI   54401   \n",
       "\n",
       "  SEX  ...  EMS_RUN_NO    DRIVER_ACTION DRIVER_VISION PHYSICAL_CONDITION  \\\n",
       "0   X  ...         NaN          UNKNOWN       UNKNOWN            UNKNOWN   \n",
       "1   M  ...         NaN  FAILED TO YIELD  NOT OBSCURED             NORMAL   \n",
       "2   M  ...         NaN             NONE  NOT OBSCURED             NORMAL   \n",
       "3   M  ...         NaN          UNKNOWN       UNKNOWN            UNKNOWN   \n",
       "4   M  ...         NaN             NONE  NOT OBSCURED             NORMAL   \n",
       "\n",
       "  PEDPEDAL_ACTION PEDPEDAL_VISIBILITY PEDPEDAL_LOCATION        BAC_RESULT  \\\n",
       "0             NaN                 NaN               NaN  TEST NOT OFFERED   \n",
       "1             NaN                 NaN               NaN  TEST NOT OFFERED   \n",
       "2             NaN                 NaN               NaN  TEST NOT OFFERED   \n",
       "3             NaN                 NaN               NaN  TEST NOT OFFERED   \n",
       "4             NaN                 NaN               NaN  TEST NOT OFFERED   \n",
       "\n",
       "  BAC_RESULT VALUE CELL_PHONE_USE  \n",
       "0              NaN            NaN  \n",
       "1              NaN            NaN  \n",
       "2              NaN            NaN  \n",
       "3              NaN            NaN  \n",
       "4              NaN            NaN  \n",
       "\n",
       "[5 rows x 29 columns]"
      ]
     },
     "execution_count": 90,
     "metadata": {},
     "output_type": "execute_result"
    }
   ],
   "source": [
    "# checking the people dataset\n",
    "people_data.head()"
   ]
  },
  {
   "cell_type": "code",
   "execution_count": 91,
   "id": "03f11974",
   "metadata": {},
   "outputs": [
    {
     "data": {
      "text/html": [
       "<div>\n",
       "<style scoped>\n",
       "    .dataframe tbody tr th:only-of-type {\n",
       "        vertical-align: middle;\n",
       "    }\n",
       "\n",
       "    .dataframe tbody tr th {\n",
       "        vertical-align: top;\n",
       "    }\n",
       "\n",
       "    .dataframe thead th {\n",
       "        text-align: right;\n",
       "    }\n",
       "</style>\n",
       "<table border=\"1\" class=\"dataframe\">\n",
       "  <thead>\n",
       "    <tr style=\"text-align: right;\">\n",
       "      <th></th>\n",
       "      <th>CRASH_UNIT_ID</th>\n",
       "      <th>CRASH_RECORD_ID</th>\n",
       "      <th>CRASH_DATE</th>\n",
       "      <th>UNIT_NO</th>\n",
       "      <th>UNIT_TYPE</th>\n",
       "      <th>NUM_PASSENGERS</th>\n",
       "      <th>VEHICLE_ID</th>\n",
       "      <th>CMRC_VEH_I</th>\n",
       "      <th>MAKE</th>\n",
       "      <th>MODEL</th>\n",
       "      <th>...</th>\n",
       "      <th>TRAILER1_LENGTH</th>\n",
       "      <th>TRAILER2_LENGTH</th>\n",
       "      <th>TOTAL_VEHICLE_LENGTH</th>\n",
       "      <th>AXLE_CNT</th>\n",
       "      <th>VEHICLE_CONFIG</th>\n",
       "      <th>CARGO_BODY_TYPE</th>\n",
       "      <th>LOAD_TYPE</th>\n",
       "      <th>HAZMAT_OUT_OF_SERVICE_I</th>\n",
       "      <th>MCS_OUT_OF_SERVICE_I</th>\n",
       "      <th>HAZMAT_CLASS</th>\n",
       "    </tr>\n",
       "  </thead>\n",
       "  <tbody>\n",
       "    <tr>\n",
       "      <th>0</th>\n",
       "      <td>2146003</td>\n",
       "      <td>95be268b1aaa3b632ce13055264f4c8e2c304ba6d8bdae...</td>\n",
       "      <td>09/07/2025 11:30:00 PM</td>\n",
       "      <td>1</td>\n",
       "      <td>DRIVER</td>\n",
       "      <td>NaN</td>\n",
       "      <td>2045728.0</td>\n",
       "      <td>NaN</td>\n",
       "      <td>UNKNOWN</td>\n",
       "      <td>OTHER (EXPLAIN IN NARRATIVE)</td>\n",
       "      <td>...</td>\n",
       "      <td>NaN</td>\n",
       "      <td>NaN</td>\n",
       "      <td>NaN</td>\n",
       "      <td>NaN</td>\n",
       "      <td>NaN</td>\n",
       "      <td>NaN</td>\n",
       "      <td>NaN</td>\n",
       "      <td>NaN</td>\n",
       "      <td>NaN</td>\n",
       "      <td>NaN</td>\n",
       "    </tr>\n",
       "    <tr>\n",
       "      <th>1</th>\n",
       "      <td>2146004</td>\n",
       "      <td>95be268b1aaa3b632ce13055264f4c8e2c304ba6d8bdae...</td>\n",
       "      <td>09/07/2025 11:30:00 PM</td>\n",
       "      <td>2</td>\n",
       "      <td>PARKED</td>\n",
       "      <td>NaN</td>\n",
       "      <td>2045729.0</td>\n",
       "      <td>NaN</td>\n",
       "      <td>DODGE</td>\n",
       "      <td>CARAVAN</td>\n",
       "      <td>...</td>\n",
       "      <td>NaN</td>\n",
       "      <td>NaN</td>\n",
       "      <td>NaN</td>\n",
       "      <td>NaN</td>\n",
       "      <td>NaN</td>\n",
       "      <td>NaN</td>\n",
       "      <td>NaN</td>\n",
       "      <td>NaN</td>\n",
       "      <td>NaN</td>\n",
       "      <td>NaN</td>\n",
       "    </tr>\n",
       "    <tr>\n",
       "      <th>2</th>\n",
       "      <td>2146009</td>\n",
       "      <td>bd1f28c916dfca267392818a032e26431679d1e6572495...</td>\n",
       "      <td>09/07/2025 11:30:00 PM</td>\n",
       "      <td>1</td>\n",
       "      <td>DRIVER</td>\n",
       "      <td>NaN</td>\n",
       "      <td>2045733.0</td>\n",
       "      <td>NaN</td>\n",
       "      <td>VOLKSWAGEN</td>\n",
       "      <td>JETTA</td>\n",
       "      <td>...</td>\n",
       "      <td>NaN</td>\n",
       "      <td>NaN</td>\n",
       "      <td>NaN</td>\n",
       "      <td>NaN</td>\n",
       "      <td>NaN</td>\n",
       "      <td>NaN</td>\n",
       "      <td>NaN</td>\n",
       "      <td>NaN</td>\n",
       "      <td>NaN</td>\n",
       "      <td>NaN</td>\n",
       "    </tr>\n",
       "    <tr>\n",
       "      <th>3</th>\n",
       "      <td>2146010</td>\n",
       "      <td>bd1f28c916dfca267392818a032e26431679d1e6572495...</td>\n",
       "      <td>09/07/2025 11:30:00 PM</td>\n",
       "      <td>2</td>\n",
       "      <td>DRIVER</td>\n",
       "      <td>NaN</td>\n",
       "      <td>2045748.0</td>\n",
       "      <td>NaN</td>\n",
       "      <td>YAMAHA</td>\n",
       "      <td>YAMAHA</td>\n",
       "      <td>...</td>\n",
       "      <td>NaN</td>\n",
       "      <td>NaN</td>\n",
       "      <td>NaN</td>\n",
       "      <td>NaN</td>\n",
       "      <td>NaN</td>\n",
       "      <td>NaN</td>\n",
       "      <td>NaN</td>\n",
       "      <td>NaN</td>\n",
       "      <td>NaN</td>\n",
       "      <td>NaN</td>\n",
       "    </tr>\n",
       "    <tr>\n",
       "      <th>4</th>\n",
       "      <td>2146013</td>\n",
       "      <td>a397b6e3872a2695dd20df2318c748fe5e02ba3662b9c0...</td>\n",
       "      <td>09/07/2025 11:26:00 PM</td>\n",
       "      <td>1</td>\n",
       "      <td>DRIVER</td>\n",
       "      <td>NaN</td>\n",
       "      <td>2045737.0</td>\n",
       "      <td>NaN</td>\n",
       "      <td>UNKNOWN</td>\n",
       "      <td>OTHER (EXPLAIN IN NARRATIVE)</td>\n",
       "      <td>...</td>\n",
       "      <td>NaN</td>\n",
       "      <td>NaN</td>\n",
       "      <td>NaN</td>\n",
       "      <td>NaN</td>\n",
       "      <td>NaN</td>\n",
       "      <td>NaN</td>\n",
       "      <td>NaN</td>\n",
       "      <td>NaN</td>\n",
       "      <td>NaN</td>\n",
       "      <td>NaN</td>\n",
       "    </tr>\n",
       "  </tbody>\n",
       "</table>\n",
       "<p>5 rows × 71 columns</p>\n",
       "</div>"
      ],
      "text/plain": [
       "   CRASH_UNIT_ID                                    CRASH_RECORD_ID  \\\n",
       "0        2146003  95be268b1aaa3b632ce13055264f4c8e2c304ba6d8bdae...   \n",
       "1        2146004  95be268b1aaa3b632ce13055264f4c8e2c304ba6d8bdae...   \n",
       "2        2146009  bd1f28c916dfca267392818a032e26431679d1e6572495...   \n",
       "3        2146010  bd1f28c916dfca267392818a032e26431679d1e6572495...   \n",
       "4        2146013  a397b6e3872a2695dd20df2318c748fe5e02ba3662b9c0...   \n",
       "\n",
       "               CRASH_DATE UNIT_NO UNIT_TYPE  NUM_PASSENGERS  VEHICLE_ID  \\\n",
       "0  09/07/2025 11:30:00 PM       1    DRIVER             NaN   2045728.0   \n",
       "1  09/07/2025 11:30:00 PM       2    PARKED             NaN   2045729.0   \n",
       "2  09/07/2025 11:30:00 PM       1    DRIVER             NaN   2045733.0   \n",
       "3  09/07/2025 11:30:00 PM       2    DRIVER             NaN   2045748.0   \n",
       "4  09/07/2025 11:26:00 PM       1    DRIVER             NaN   2045737.0   \n",
       "\n",
       "  CMRC_VEH_I        MAKE                         MODEL  ... TRAILER1_LENGTH  \\\n",
       "0        NaN     UNKNOWN  OTHER (EXPLAIN IN NARRATIVE)  ...             NaN   \n",
       "1        NaN       DODGE                       CARAVAN  ...             NaN   \n",
       "2        NaN  VOLKSWAGEN                         JETTA  ...             NaN   \n",
       "3        NaN      YAMAHA                        YAMAHA  ...             NaN   \n",
       "4        NaN     UNKNOWN  OTHER (EXPLAIN IN NARRATIVE)  ...             NaN   \n",
       "\n",
       "   TRAILER2_LENGTH TOTAL_VEHICLE_LENGTH AXLE_CNT VEHICLE_CONFIG  \\\n",
       "0              NaN                  NaN      NaN            NaN   \n",
       "1              NaN                  NaN      NaN            NaN   \n",
       "2              NaN                  NaN      NaN            NaN   \n",
       "3              NaN                  NaN      NaN            NaN   \n",
       "4              NaN                  NaN      NaN            NaN   \n",
       "\n",
       "  CARGO_BODY_TYPE LOAD_TYPE HAZMAT_OUT_OF_SERVICE_I MCS_OUT_OF_SERVICE_I  \\\n",
       "0             NaN       NaN                     NaN                  NaN   \n",
       "1             NaN       NaN                     NaN                  NaN   \n",
       "2             NaN       NaN                     NaN                  NaN   \n",
       "3             NaN       NaN                     NaN                  NaN   \n",
       "4             NaN       NaN                     NaN                  NaN   \n",
       "\n",
       "   HAZMAT_CLASS  \n",
       "0           NaN  \n",
       "1           NaN  \n",
       "2           NaN  \n",
       "3           NaN  \n",
       "4           NaN  \n",
       "\n",
       "[5 rows x 71 columns]"
      ]
     },
     "execution_count": 91,
     "metadata": {},
     "output_type": "execute_result"
    }
   ],
   "source": [
    "# checking the vehicles dataset\n",
    "vehicles_data.head()"
   ]
  },
  {
   "cell_type": "code",
   "execution_count": 92,
   "id": "74a1c3a3",
   "metadata": {},
   "outputs": [
    {
     "data": {
      "text/html": [
       "<div>\n",
       "<style scoped>\n",
       "    .dataframe tbody tr th:only-of-type {\n",
       "        vertical-align: middle;\n",
       "    }\n",
       "\n",
       "    .dataframe tbody tr th {\n",
       "        vertical-align: top;\n",
       "    }\n",
       "\n",
       "    .dataframe thead th {\n",
       "        text-align: right;\n",
       "    }\n",
       "</style>\n",
       "<table border=\"1\" class=\"dataframe\">\n",
       "  <thead>\n",
       "    <tr style=\"text-align: right;\">\n",
       "      <th></th>\n",
       "      <th>CRASH_RECORD_ID</th>\n",
       "      <th>CRASH_DATE_EST_I</th>\n",
       "      <th>CRASH_DATE</th>\n",
       "      <th>POSTED_SPEED_LIMIT</th>\n",
       "      <th>TRAFFIC_CONTROL_DEVICE</th>\n",
       "      <th>DEVICE_CONDITION</th>\n",
       "      <th>WEATHER_CONDITION</th>\n",
       "      <th>LIGHTING_CONDITION</th>\n",
       "      <th>FIRST_CRASH_TYPE</th>\n",
       "      <th>TRAFFICWAY_TYPE</th>\n",
       "      <th>...</th>\n",
       "      <th>INJURIES_NON_INCAPACITATING</th>\n",
       "      <th>INJURIES_REPORTED_NOT_EVIDENT</th>\n",
       "      <th>INJURIES_NO_INDICATION</th>\n",
       "      <th>INJURIES_UNKNOWN</th>\n",
       "      <th>CRASH_HOUR</th>\n",
       "      <th>CRASH_DAY_OF_WEEK</th>\n",
       "      <th>CRASH_MONTH</th>\n",
       "      <th>LATITUDE</th>\n",
       "      <th>LONGITUDE</th>\n",
       "      <th>LOCATION</th>\n",
       "    </tr>\n",
       "  </thead>\n",
       "  <tbody>\n",
       "    <tr>\n",
       "      <th>0</th>\n",
       "      <td>9c1182f668ea7605b7a37aaecdb2350fbc625a475d60b3...</td>\n",
       "      <td>NaN</td>\n",
       "      <td>09/09/2025 11:55:00 PM</td>\n",
       "      <td>30</td>\n",
       "      <td>TRAFFIC SIGNAL</td>\n",
       "      <td>FUNCTIONING PROPERLY</td>\n",
       "      <td>CLEAR</td>\n",
       "      <td>DARKNESS, LIGHTED ROAD</td>\n",
       "      <td>REAR TO FRONT</td>\n",
       "      <td>DIVIDED - W/MEDIAN (NOT RAISED)</td>\n",
       "      <td>...</td>\n",
       "      <td>0.0</td>\n",
       "      <td>0.0</td>\n",
       "      <td>2.0</td>\n",
       "      <td>0.0</td>\n",
       "      <td>23</td>\n",
       "      <td>3</td>\n",
       "      <td>9</td>\n",
       "      <td>41.735635</td>\n",
       "      <td>-87.682650</td>\n",
       "      <td>POINT (-87.682650342555 41.735635328819)</td>\n",
       "    </tr>\n",
       "    <tr>\n",
       "      <th>1</th>\n",
       "      <td>31397733ed36babc51ab6de3c99d7950d90a1439e64ce4...</td>\n",
       "      <td>NaN</td>\n",
       "      <td>09/09/2025 11:30:00 PM</td>\n",
       "      <td>30</td>\n",
       "      <td>NO CONTROLS</td>\n",
       "      <td>NO CONTROLS</td>\n",
       "      <td>CLEAR</td>\n",
       "      <td>UNKNOWN</td>\n",
       "      <td>PARKED MOTOR VEHICLE</td>\n",
       "      <td>ONE-WAY</td>\n",
       "      <td>...</td>\n",
       "      <td>0.0</td>\n",
       "      <td>0.0</td>\n",
       "      <td>1.0</td>\n",
       "      <td>0.0</td>\n",
       "      <td>23</td>\n",
       "      <td>3</td>\n",
       "      <td>9</td>\n",
       "      <td>41.965614</td>\n",
       "      <td>-87.766979</td>\n",
       "      <td>POINT (-87.766979452073 41.965614275418)</td>\n",
       "    </tr>\n",
       "    <tr>\n",
       "      <th>2</th>\n",
       "      <td>4d5883a274332f0b0e71eb5fb4684e0ec3f580374847ae...</td>\n",
       "      <td>NaN</td>\n",
       "      <td>09/09/2025 11:18:00 PM</td>\n",
       "      <td>15</td>\n",
       "      <td>NO CONTROLS</td>\n",
       "      <td>NO CONTROLS</td>\n",
       "      <td>CLEAR</td>\n",
       "      <td>DARKNESS, LIGHTED ROAD</td>\n",
       "      <td>FIXED OBJECT</td>\n",
       "      <td>PARKING LOT</td>\n",
       "      <td>...</td>\n",
       "      <td>1.0</td>\n",
       "      <td>0.0</td>\n",
       "      <td>0.0</td>\n",
       "      <td>0.0</td>\n",
       "      <td>23</td>\n",
       "      <td>3</td>\n",
       "      <td>9</td>\n",
       "      <td>41.920299</td>\n",
       "      <td>-87.670814</td>\n",
       "      <td>POINT (-87.670814157004 41.920299243516)</td>\n",
       "    </tr>\n",
       "    <tr>\n",
       "      <th>3</th>\n",
       "      <td>bcb79b90f48dab8b36a40e50271104b68dc1d1d72425d8...</td>\n",
       "      <td>NaN</td>\n",
       "      <td>09/09/2025 10:11:00 PM</td>\n",
       "      <td>30</td>\n",
       "      <td>TRAFFIC SIGNAL</td>\n",
       "      <td>FUNCTIONING PROPERLY</td>\n",
       "      <td>CLEAR</td>\n",
       "      <td>DARKNESS, LIGHTED ROAD</td>\n",
       "      <td>TURNING</td>\n",
       "      <td>NOT DIVIDED</td>\n",
       "      <td>...</td>\n",
       "      <td>0.0</td>\n",
       "      <td>0.0</td>\n",
       "      <td>1.0</td>\n",
       "      <td>0.0</td>\n",
       "      <td>22</td>\n",
       "      <td>3</td>\n",
       "      <td>9</td>\n",
       "      <td>41.917052</td>\n",
       "      <td>-87.755962</td>\n",
       "      <td>POINT (-87.755962192591 41.91705242361)</td>\n",
       "    </tr>\n",
       "    <tr>\n",
       "      <th>4</th>\n",
       "      <td>d24363839c4baaf316030a414d5f285c15b21aff799a45...</td>\n",
       "      <td>NaN</td>\n",
       "      <td>09/09/2025 09:51:00 PM</td>\n",
       "      <td>20</td>\n",
       "      <td>NO CONTROLS</td>\n",
       "      <td>NO CONTROLS</td>\n",
       "      <td>CLEAR</td>\n",
       "      <td>DARKNESS</td>\n",
       "      <td>PARKED MOTOR VEHICLE</td>\n",
       "      <td>NOT DIVIDED</td>\n",
       "      <td>...</td>\n",
       "      <td>0.0</td>\n",
       "      <td>0.0</td>\n",
       "      <td>1.0</td>\n",
       "      <td>0.0</td>\n",
       "      <td>21</td>\n",
       "      <td>3</td>\n",
       "      <td>9</td>\n",
       "      <td>41.846225</td>\n",
       "      <td>-87.722773</td>\n",
       "      <td>POINT (-87.722772758962 41.846224849448)</td>\n",
       "    </tr>\n",
       "  </tbody>\n",
       "</table>\n",
       "<p>5 rows × 48 columns</p>\n",
       "</div>"
      ],
      "text/plain": [
       "                                     CRASH_RECORD_ID CRASH_DATE_EST_I  \\\n",
       "0  9c1182f668ea7605b7a37aaecdb2350fbc625a475d60b3...              NaN   \n",
       "1  31397733ed36babc51ab6de3c99d7950d90a1439e64ce4...              NaN   \n",
       "2  4d5883a274332f0b0e71eb5fb4684e0ec3f580374847ae...              NaN   \n",
       "3  bcb79b90f48dab8b36a40e50271104b68dc1d1d72425d8...              NaN   \n",
       "4  d24363839c4baaf316030a414d5f285c15b21aff799a45...              NaN   \n",
       "\n",
       "               CRASH_DATE  POSTED_SPEED_LIMIT TRAFFIC_CONTROL_DEVICE  \\\n",
       "0  09/09/2025 11:55:00 PM                  30         TRAFFIC SIGNAL   \n",
       "1  09/09/2025 11:30:00 PM                  30            NO CONTROLS   \n",
       "2  09/09/2025 11:18:00 PM                  15            NO CONTROLS   \n",
       "3  09/09/2025 10:11:00 PM                  30         TRAFFIC SIGNAL   \n",
       "4  09/09/2025 09:51:00 PM                  20            NO CONTROLS   \n",
       "\n",
       "       DEVICE_CONDITION WEATHER_CONDITION      LIGHTING_CONDITION  \\\n",
       "0  FUNCTIONING PROPERLY             CLEAR  DARKNESS, LIGHTED ROAD   \n",
       "1           NO CONTROLS             CLEAR                 UNKNOWN   \n",
       "2           NO CONTROLS             CLEAR  DARKNESS, LIGHTED ROAD   \n",
       "3  FUNCTIONING PROPERLY             CLEAR  DARKNESS, LIGHTED ROAD   \n",
       "4           NO CONTROLS             CLEAR                DARKNESS   \n",
       "\n",
       "       FIRST_CRASH_TYPE                  TRAFFICWAY_TYPE  ...  \\\n",
       "0         REAR TO FRONT  DIVIDED - W/MEDIAN (NOT RAISED)  ...   \n",
       "1  PARKED MOTOR VEHICLE                          ONE-WAY  ...   \n",
       "2          FIXED OBJECT                      PARKING LOT  ...   \n",
       "3               TURNING                      NOT DIVIDED  ...   \n",
       "4  PARKED MOTOR VEHICLE                      NOT DIVIDED  ...   \n",
       "\n",
       "  INJURIES_NON_INCAPACITATING INJURIES_REPORTED_NOT_EVIDENT  \\\n",
       "0                         0.0                           0.0   \n",
       "1                         0.0                           0.0   \n",
       "2                         1.0                           0.0   \n",
       "3                         0.0                           0.0   \n",
       "4                         0.0                           0.0   \n",
       "\n",
       "  INJURIES_NO_INDICATION INJURIES_UNKNOWN CRASH_HOUR CRASH_DAY_OF_WEEK  \\\n",
       "0                    2.0              0.0         23                 3   \n",
       "1                    1.0              0.0         23                 3   \n",
       "2                    0.0              0.0         23                 3   \n",
       "3                    1.0              0.0         22                 3   \n",
       "4                    1.0              0.0         21                 3   \n",
       "\n",
       "  CRASH_MONTH   LATITUDE  LONGITUDE                                  LOCATION  \n",
       "0           9  41.735635 -87.682650  POINT (-87.682650342555 41.735635328819)  \n",
       "1           9  41.965614 -87.766979  POINT (-87.766979452073 41.965614275418)  \n",
       "2           9  41.920299 -87.670814  POINT (-87.670814157004 41.920299243516)  \n",
       "3           9  41.917052 -87.755962   POINT (-87.755962192591 41.91705242361)  \n",
       "4           9  41.846225 -87.722773  POINT (-87.722772758962 41.846224849448)  \n",
       "\n",
       "[5 rows x 48 columns]"
      ]
     },
     "execution_count": 92,
     "metadata": {},
     "output_type": "execute_result"
    }
   ],
   "source": [
    "# checking the vehicles dataset\n",
    "crashes_data.head()"
   ]
  },
  {
   "cell_type": "code",
   "execution_count": 93,
   "id": "63114052",
   "metadata": {},
   "outputs": [
    {
     "name": "stdout",
     "output_type": "stream",
     "text": [
      "The people dataset has a shape of (2157293, 29), the vehicles dataset has a shape of (2003473, 71), the crashes dataset has a shape of (983027, 48).\n"
     ]
    }
   ],
   "source": [
    "# checking the shape on both datasets\n",
    "print(f\"The people dataset has a shape of {people_data.shape}, the vehicles dataset has a shape of {vehicles_data.shape}, the crashes dataset has a shape of {crashes_data.shape}.\")"
   ]
  },
  {
   "cell_type": "code",
   "execution_count": 94,
   "id": "7a4cefab",
   "metadata": {},
   "outputs": [
    {
     "name": "stdout",
     "output_type": "stream",
     "text": [
      "Index(['PERSON_ID', 'PERSON_TYPE', 'CRASH_RECORD_ID', 'VEHICLE_ID',\n",
      "       'CRASH_DATE', 'SEAT_NO', 'CITY', 'STATE', 'ZIPCODE', 'SEX', 'AGE',\n",
      "       'DRIVERS_LICENSE_STATE', 'DRIVERS_LICENSE_CLASS', 'SAFETY_EQUIPMENT',\n",
      "       'AIRBAG_DEPLOYED', 'EJECTION', 'INJURY_CLASSIFICATION', 'HOSPITAL',\n",
      "       'EMS_AGENCY', 'EMS_RUN_NO', 'DRIVER_ACTION', 'DRIVER_VISION',\n",
      "       'PHYSICAL_CONDITION', 'PEDPEDAL_ACTION', 'PEDPEDAL_VISIBILITY',\n",
      "       'PEDPEDAL_LOCATION', 'BAC_RESULT', 'BAC_RESULT VALUE',\n",
      "       'CELL_PHONE_USE'],\n",
      "      dtype='object')\n",
      "Index(['CRASH_UNIT_ID', 'CRASH_RECORD_ID', 'CRASH_DATE', 'UNIT_NO',\n",
      "       'UNIT_TYPE', 'NUM_PASSENGERS', 'VEHICLE_ID', 'CMRC_VEH_I', 'MAKE',\n",
      "       'MODEL', 'LIC_PLATE_STATE', 'VEHICLE_YEAR', 'VEHICLE_DEFECT',\n",
      "       'VEHICLE_TYPE', 'VEHICLE_USE', 'TRAVEL_DIRECTION', 'MANEUVER',\n",
      "       'TOWED_I', 'FIRE_I', 'OCCUPANT_CNT', 'EXCEED_SPEED_LIMIT_I', 'TOWED_BY',\n",
      "       'TOWED_TO', 'AREA_00_I', 'AREA_01_I', 'AREA_02_I', 'AREA_03_I',\n",
      "       'AREA_04_I', 'AREA_05_I', 'AREA_06_I', 'AREA_07_I', 'AREA_08_I',\n",
      "       'AREA_09_I', 'AREA_10_I', 'AREA_11_I', 'AREA_12_I', 'AREA_99_I',\n",
      "       'FIRST_CONTACT_POINT', 'CMV_ID', 'USDOT_NO', 'CCMC_NO', 'ILCC_NO',\n",
      "       'COMMERCIAL_SRC', 'GVWR', 'CARRIER_NAME', 'CARRIER_STATE',\n",
      "       'CARRIER_CITY', 'HAZMAT_PLACARDS_I', 'HAZMAT_NAME', 'UN_NO',\n",
      "       'HAZMAT_PRESENT_I', 'HAZMAT_REPORT_I', 'HAZMAT_REPORT_NO',\n",
      "       'MCS_REPORT_I', 'MCS_REPORT_NO', 'HAZMAT_VIO_CAUSE_CRASH_I',\n",
      "       'MCS_VIO_CAUSE_CRASH_I', 'IDOT_PERMIT_NO', 'WIDE_LOAD_I',\n",
      "       'TRAILER1_WIDTH', 'TRAILER2_WIDTH', 'TRAILER1_LENGTH',\n",
      "       'TRAILER2_LENGTH', 'TOTAL_VEHICLE_LENGTH', 'AXLE_CNT', 'VEHICLE_CONFIG',\n",
      "       'CARGO_BODY_TYPE', 'LOAD_TYPE', 'HAZMAT_OUT_OF_SERVICE_I',\n",
      "       'MCS_OUT_OF_SERVICE_I', 'HAZMAT_CLASS'],\n",
      "      dtype='object')\n",
      "Index(['CRASH_RECORD_ID', 'CRASH_DATE_EST_I', 'CRASH_DATE',\n",
      "       'POSTED_SPEED_LIMIT', 'TRAFFIC_CONTROL_DEVICE', 'DEVICE_CONDITION',\n",
      "       'WEATHER_CONDITION', 'LIGHTING_CONDITION', 'FIRST_CRASH_TYPE',\n",
      "       'TRAFFICWAY_TYPE', 'LANE_CNT', 'ALIGNMENT', 'ROADWAY_SURFACE_COND',\n",
      "       'ROAD_DEFECT', 'REPORT_TYPE', 'CRASH_TYPE', 'INTERSECTION_RELATED_I',\n",
      "       'NOT_RIGHT_OF_WAY_I', 'HIT_AND_RUN_I', 'DAMAGE', 'DATE_POLICE_NOTIFIED',\n",
      "       'PRIM_CONTRIBUTORY_CAUSE', 'SEC_CONTRIBUTORY_CAUSE', 'STREET_NO',\n",
      "       'STREET_DIRECTION', 'STREET_NAME', 'BEAT_OF_OCCURRENCE',\n",
      "       'PHOTOS_TAKEN_I', 'STATEMENTS_TAKEN_I', 'DOORING_I', 'WORK_ZONE_I',\n",
      "       'WORK_ZONE_TYPE', 'WORKERS_PRESENT_I', 'NUM_UNITS',\n",
      "       'MOST_SEVERE_INJURY', 'INJURIES_TOTAL', 'INJURIES_FATAL',\n",
      "       'INJURIES_INCAPACITATING', 'INJURIES_NON_INCAPACITATING',\n",
      "       'INJURIES_REPORTED_NOT_EVIDENT', 'INJURIES_NO_INDICATION',\n",
      "       'INJURIES_UNKNOWN', 'CRASH_HOUR', 'CRASH_DAY_OF_WEEK', 'CRASH_MONTH',\n",
      "       'LATITUDE', 'LONGITUDE', 'LOCATION'],\n",
      "      dtype='object')\n"
     ]
    }
   ],
   "source": [
    "# Checking the column names in both datasets\n",
    "print(people_data.columns)\n",
    "\n",
    "print(vehicles_data.columns)\n",
    "\n",
    "print(crashes_data.columns)"
   ]
  },
  {
   "cell_type": "markdown",
   "id": "9dc7af30",
   "metadata": {},
   "source": [
    "#### From the above, the vehicles dataset has a lot more columns than the peoples dataset. \n",
    "#### However, I will still try to merge the two datasets so that I can start working from a single dataset."
   ]
  },
  {
   "cell_type": "code",
   "execution_count": null,
   "id": "0603afd0",
   "metadata": {},
   "outputs": [],
   "source": [
    "# The approach for joining the two datasets will be to join on the crash record ID and vehicle ID column since they are similar in both sets.\n",
    "# This approach will help in minimizing any cases of duplicates\n",
    "\n",
    "# The first part of this approach is to standardise the columns to avoid any mismatches that may occur\n",
    "people_data.columns = people_data.columns.str.lower()\n",
    "vehicles_data.columns = vehicles_data.columns.str.lower() \n",
    "crashes_data.columns = crashes_data.columns.str.lower()\n",
    "# Next, merging on crash record ID and vehcile ID columns\n",
    "\n",
    "\n",
    "# Disclaimer, as a result of the meagre computing power on my pc, I decided to go with inner merge. \n",
    "people_vehicles = pd.merge(\n",
    "    people_data,\n",
    "    vehicles_data,\n",
    "    how=\"inner\",\n",
    "    on=[\"crash_record_id\", \"vehicle_id\"]\n",
    ")\n",
    "\n",
    "# Merging the third dataset\n",
    "merged_df = pd.merge(    \n",
    "    people_vehicles,\n",
    "    crashes_data,\n",
    "    how=\"inner\",\n",
    "    on=\"crash_record_id\"\n",
    ")\n",
    "\n",
    "\n",
    "print (merged_df.shape)"
   ]
  },
  {
   "cell_type": "code",
   "execution_count": null,
   "id": "f69bcca6",
   "metadata": {},
   "outputs": [],
   "source": [
    "# Checking the first 5 columns on the merged data\n",
    "merged_df.head()"
   ]
  },
  {
   "cell_type": "code",
   "execution_count": null,
   "id": "b03d734c",
   "metadata": {},
   "outputs": [],
   "source": [
    "merged_df.columns"
   ]
  },
  {
   "cell_type": "code",
   "execution_count": null,
   "id": "978b490b",
   "metadata": {},
   "outputs": [],
   "source": [
    "# Checking the percentage of missing data\n",
    "missing_data = merged_df.isnull().mean()*100\n",
    "\n",
    "#  Sorting the missing data in descending order\n",
    "missing_data = missing_data.sort_values(ascending=False)\n",
    "\n",
    "print(missing_data)"
   ]
  },
  {
   "cell_type": "code",
   "execution_count": null,
   "id": "aa778e26",
   "metadata": {},
   "outputs": [],
   "source": [
    "# Now considering the number of rows and columns, I will be dropping the columns with more than 70% missing data. \n",
    "# The 70% figure is based on the fact that there is too much missing data for that column to be useful.\n",
    "\n",
    "# Threshold (70%)\n",
    "threshold = 0.7\n",
    "\n",
    "# Drop columns where more than 70% values are missing\n",
    "merged_df = merged_df.loc[:, merged_df.isnull().mean() < threshold]\n",
    "\n",
    "# Checking the percentage of missing data\n",
    "missing_data = merged_df.isnull().mean()*100\n",
    "\n",
    "#  Sorting the missing data in descending order\n",
    "missing_data = missing_data.sort_values(ascending=False)\n",
    "\n",
    "print(missing_data)"
   ]
  },
  {
   "cell_type": "code",
   "execution_count": null,
   "id": "93482e2c",
   "metadata": {},
   "outputs": [],
   "source": [
    "# Checking the data's new shape\n",
    "merged_df.shape"
   ]
  },
  {
   "cell_type": "code",
   "execution_count": null,
   "id": "be6fd88a",
   "metadata": {},
   "outputs": [],
   "source": [
    "merged_df.head()"
   ]
  },
  {
   "cell_type": "code",
   "execution_count": null,
   "id": "308f4a34",
   "metadata": {},
   "outputs": [],
   "source": [
    "# Print all column names to check for typos or different names\n",
    "print(merged_df.columns)"
   ]
  },
  {
   "cell_type": "code",
   "execution_count": null,
   "id": "132055c1",
   "metadata": {},
   "outputs": [],
   "source": [
    "# Now, for the remaining columns, I will try to use relationships and columns to fill in the missing data\n",
    "\n",
    "corrs = merged_df.corr(numeric_only=True)[\"num_passengers\"].sort_values(ascending=False)\n",
    "\n",
    "print(corrs) "
   ]
  },
  {
   "cell_type": "code",
   "execution_count": null,
   "id": "6d82ecfb",
   "metadata": {},
   "outputs": [],
   "source": [
    "# Since there is a high correlation with occupant_cnt, I will start by filling in that column, which will the be used to fill in the num_passengers column\n",
    "\n",
    "# Filling in occupant_cnt using mode\n",
    "mode_value = merged_df[\"occupant_cnt\"].mode()[0]\n",
    "\n",
    "merged_df[\"occupant_cnt\"] = merged_df[\"occupant_cnt\"].fillna(mode_value)\n",
    "\n",
    "# check if it took\n",
    "merged_df[\"occupant_cnt\"].isnull().sum()"
   ]
  },
  {
   "cell_type": "code",
   "execution_count": null,
   "id": "c011ce34",
   "metadata": {},
   "outputs": [],
   "source": [
    "# using the occupant cnt column to fill in the num passengers\n",
    "\n",
    "merged_df[\"num_passengers\"] = merged_df.apply(\n",
    "    lambda row: row[\"occupant_cnt\"] - 1\n",
    "    if pd.isna(row[\"num_passengers\"]) else row[\"num_passengers\"], \n",
    "    axis=1\n",
    ")\n",
    "\n",
    "# check if it took \n",
    "merged_df[\"num_passengers\"].isnull().sum() "
   ]
  },
  {
   "cell_type": "code",
   "execution_count": null,
   "id": "361ed52c",
   "metadata": {},
   "outputs": [],
   "source": [
    "# Filling in the data from columns\n",
    "columns_to_fill_with_mode = [\n",
    "    \"drivers_license_class\", \"drivers_license_state\", \"zipcode\", \"age\",\"city\", \"state\", \"driver_vision\", \"driver_action\", \"bac_result\",\n",
    "    \"physical_condition\", \"vehicle_year\", \"lic_plate_state\", \"first_contact_point\",\"model\", \"make\", \"occupant_cnt\", \"maneuver\", \"travel_direction\",\n",
    "    \"vehicle_use\", \"vehicle_type\", \"vehicle_defect\", \"vehicle_id\",\"airbag_deployed\", \"sex\", \"ejection\", \"safety_equipment\", \"injury_classification\",\n",
    "    \"unit_type\",\"report_type\",\"location\",\"longitude\",\"latitude\",\"most_severe_injury\",\"beat_of_occurrence\",\"street_direction\",\"street_name\" \n",
    "]\n",
    "\n",
    "# Looping through and filling each with the mode \n",
    "\n",
    "for col in columns_to_fill_with_mode:\n",
    "    mode_value = merged_df[col].mode()[0]   # get most common value\n",
    "    merged_df[col] = merged_df[col].fillna(mode_value)\n",
    "\n",
    "# Check one of them\n",
    "print(\"Missing drivers_license_class:\", merged_df[\"drivers_license_class\"].isnull().sum())"
   ]
  },
  {
   "cell_type": "code",
   "execution_count": null,
   "id": "42abd37f",
   "metadata": {},
   "outputs": [],
   "source": [
    "# checking for columns in missing data\n",
    "missing_data2 = merged_df.isnull().mean()*100\n",
    "\n",
    "#  Sorting the missing data in descending order\n",
    "missing_data2 = missing_data2.sort_values(ascending=False)\n",
    "\n",
    "print(missing_data2)\n"
   ]
  },
  {
   "cell_type": "code",
   "execution_count": null,
   "id": "aea5f949",
   "metadata": {},
   "outputs": [],
   "source": [
    "#confirm the imputation\n",
    "merged_df.isna().sum().any()"
   ]
  },
  {
   "cell_type": "code",
   "execution_count": null,
   "id": "f604f74e",
   "metadata": {},
   "outputs": [],
   "source": [
    "#check duplicates\n",
    "merged_df.duplicated().sum()"
   ]
  },
  {
   "cell_type": "markdown",
   "id": "dc35c83f",
   "metadata": {},
   "source": [
    "# Data Preparation\n"
   ]
  },
  {
   "cell_type": "code",
   "execution_count": null,
   "id": "7de12cf3",
   "metadata": {},
   "outputs": [],
   "source": [
    "# Making a copy of the cleaned dataset\n",
    "\n",
    "cleaned_data = merged_df.copy(deep=True)\n",
    "cleaned_data.shape"
   ]
  },
  {
   "cell_type": "code",
   "execution_count": null,
   "id": "f507f2bb",
   "metadata": {},
   "outputs": [],
   "source": [
    "cleaned_data.columns"
   ]
  },
  {
   "cell_type": "code",
   "execution_count": null,
   "id": "1d6d22d2",
   "metadata": {},
   "outputs": [],
   "source": [
    "cleaned_data.head()"
   ]
  },
  {
   "cell_type": "code",
   "execution_count": null,
   "id": "151f6990",
   "metadata": {},
   "outputs": [],
   "source": [
    "# checking for outliers\n",
    "sns.boxplot(cleaned_data,color=\"r\")\n",
    "plt.tight_layout()\n",
    "plt.grid(alpha=.3)\n",
    "plt.xticks(rotation=45)\n",
    "plt.show();"
   ]
  },
  {
   "cell_type": "markdown",
   "id": "40774810",
   "metadata": {},
   "source": [
    "From the plot above, the vehicle_Id and crash_unit are unique identifiers assigned to each record "
   ]
  },
  {
   "cell_type": "markdown",
   "id": "d27d48ad",
   "metadata": {},
   "source": [
    "# Exploratory Data Analysis\n"
   ]
  },
  {
   "cell_type": "code",
   "execution_count": null,
   "id": "7d711046",
   "metadata": {},
   "outputs": [],
   "source": [
    "# Considering the size of the dataset, the next step will be to get a sample of 10% of the data of randomly selected rows to use for analysis\n",
    "sample_data = cleaned_data.sample(frac=0.1, random_state=42)\n",
    "sample_data.shape\n"
   ]
  },
  {
   "cell_type": "markdown",
   "id": "e605d766",
   "metadata": {},
   "source": [
    "##### The above creates a sample size of 200K which allows me to conduct my analysis in a way that my P.C can handle."
   ]
  },
  {
   "cell_type": "code",
   "execution_count": null,
   "id": "8de17258",
   "metadata": {},
   "outputs": [],
   "source": [
    "sample_data.head()"
   ]
  },
  {
   "cell_type": "code",
   "execution_count": null,
   "id": "591eb9a8",
   "metadata": {},
   "outputs": [],
   "source": [
    "# Considering my problem statement and maintaining the same, EDA will focus along those lines\n",
    "\n",
    "# Making sure that the 'latitude' and 'longitude' columns do not have any unfilled sections\n",
    "df_spatial = sample_data.dropna(subset=['latitude', 'longitude'])\n",
    "\n",
    "# To make sure that both the latitude and longitude only cover the Chicago region\n",
    "df_spatial = df_spatial[\n",
    "    (df_spatial['latitude'].between(41.6, 42.1)) &\n",
    "    (df_spatial['longitude'].between(-87.95, -87.5))\n",
    "]\n",
    "\n",
    "print(f\"Remaining rows after filtering: {len(df_spatial)}\")"
   ]
  },
  {
   "cell_type": "code",
   "execution_count": null,
   "id": "3eea7953",
   "metadata": {},
   "outputs": [],
   "source": [
    "# Static density visualization which shows a static heatmap where the crashes are concentrated\n",
    "\n",
    "plt.figure(figsize=(8, 8))\n",
    "plt.hexbin(df_spatial['longitude'], df_spatial['latitude'], gridsize=100, cmap='Reds', bins='log')\n",
    "plt.colorbar(label='log(crash count)')\n",
    "plt.title(\"Crash Density Across Chicago\")\n",
    "plt.xlabel(\"Longitude\")\n",
    "plt.ylabel(\"Latitude\")\n",
    "plt.show()"
   ]
  },
  {
   "cell_type": "code",
   "execution_count": null,
   "id": "6e8d7336",
   "metadata": {},
   "outputs": [],
   "source": [
    "# Hotspot clustering using DBSCAN\n",
    "from sklearn.cluster import DBSCAN\n",
    "coords = df_spatial[['latitude','longitude']].to_numpy()\n",
    "\n",
    "# scaling for DBSCAN\n",
    "coords_scaled = StandardScaler().fit_transform(coords)\n",
    "\n",
    "db = DBSCAN(eps=0.05, min_samples=30).fit(coords_scaled)  \n",
    "df_spatial['cluster'] = db.labels_\n",
    "\n",
    "print(df_spatial['cluster'].value_counts().head())"
   ]
  },
  {
   "cell_type": "code",
   "execution_count": null,
   "id": "8937b30c",
   "metadata": {},
   "outputs": [],
   "source": [
    "# Ranking the hotspots\n",
    "hotspots = df_spatial.groupby('cluster').agg(\n",
    "    crashes=('crash_record_id', 'count'),\n",
    "    total_injuries=('injuries_total','sum'),\n",
    "    fatalities=('injuries_fatal','sum')\n",
    ").sort_values('crashes', ascending=False)\n",
    "\n",
    "# Checking the order of the hostspots\n",
    "hotspots.head(10)"
   ]
  },
  {
   "cell_type": "code",
   "execution_count": null,
   "id": "e3a70c38",
   "metadata": {},
   "outputs": [],
   "source": [
    "# Visualizing the cluster on a map with the crashes being color-coded according to the clusters\n",
    "import folium\n",
    "m_clusters = folium.Map(location=[41.85, -87.65], zoom_start=11)\n",
    "\n",
    "for _, row in df_spatial.iterrows():\n",
    "    if row['cluster'] != -1:\n",
    "        folium.CircleMarker(\n",
    "            location=[row['latitude'], row['longitude']],\n",
    "            radius=2,\n",
    "            color=f\"#{(hash(row['cluster']) & 0xFFFFFF):06x}\",  # cluster color\n",
    "            fill=True,\n",
    "            fill_opacity=0.6\n",
    "        ).add_to(m_clusters)\n",
    "\n",
    "m_clusters"
   ]
  },
  {
   "cell_type": "markdown",
   "id": "e3bc0a5b",
   "metadata": {},
   "source": [
    "# Univariate Analysis"
   ]
  },
  {
   "cell_type": "code",
   "execution_count": null,
   "id": "46b66e63",
   "metadata": {},
   "outputs": [],
   "source": [
    "# These lines of code are meant to structure the relevant variables according to the hotspot issues instead of brutforcing all the columns \n",
    "# and data which are quite substantial\n",
    "\n",
    "# Detailing the appropriate code for making the necessary plots for the rest of the workflow.\n",
    "\n",
    "def plot_categorical(series, top_n=10):\n",
    "    counts = series.value_counts().head(top_n)\n",
    "    sns.barplot(x=counts.values, y=counts.index)\n",
    "    plt.title(series.name)\n",
    "    plt.show();\n",
    "\n",
    "def plot_numeric(series, bins=20):\n",
    "    sns.histplot(series.dropna(), bins=bins, kde=False)\n",
    "    plt.title(series.name)\n",
    "    plt.show();\n"
   ]
  },
  {
   "cell_type": "code",
   "execution_count": null,
   "id": "63a0dc87",
   "metadata": {},
   "outputs": [],
   "source": [
    "# Getting the time when ost crashes occur\n",
    "plot_numeric(sample_data['crash_hour'])\n"
   ]
  },
  {
   "cell_type": "markdown",
   "id": "ba3ec24c",
   "metadata": {},
   "source": [
    "From the above, the distribution is according to the period or hour when most crashes tend to occur with most of the crashes happening at 3pm followed by 7 am, and around midnight. This information can help us better explain some of the reasons being the 3pm jam that occurs as most people are leaving work, conducting their errands, and picking children up from school. The 7AM crashes can be explained as the early morning bustle as people try to go to work and school."
   ]
  },
  {
   "cell_type": "code",
   "execution_count": null,
   "id": "46d1492d",
   "metadata": {},
   "outputs": [],
   "source": [
    "# Map the days of the week if stored as numbers\n",
    "day_map = {\n",
    "    1: \"Monday\", 2: \"Tuesday\", 3: \"Wednesday\",\n",
    "    4: \"Thursday\", 5: \"Friday\", 6: \"Saturday\", 7: \"Sunday\"\n",
    "}\n",
    "sample_data['crash_day_of_week'] = sample_data['crash_day_of_week'].map(day_map)\n",
    "\n",
    "# Ensure categorical order\n",
    "days_order = [\"Monday\", \"Tuesday\", \"Wednesday\", \"Thursday\", \"Friday\", \"Saturday\", \"Sunday\"]\n",
    "sample_data['crash_day_of_week'] = pd.Categorical(\n",
    "    sample_data['crash_day_of_week'],\n",
    "    categories=days_order,\n",
    "    ordered=True\n",
    ")\n",
    "\n",
    "# Plot\n",
    "sns.countplot(data=sample_data, y='crash_day_of_week', order=days_order)\n",
    "plt.title(\"Crashes by Day of Week\")\n",
    "plt.show()\n"
   ]
  },
  {
   "cell_type": "code",
   "execution_count": null,
   "id": "de676508",
   "metadata": {},
   "outputs": [],
   "source": [
    "# Month map: 1-12 → Month names\n",
    "month_map = {\n",
    "    1: \"January\", 2: \"February\", 3: \"March\", 4: \"April\",\n",
    "    5: \"May\", 6: \"June\", 7: \"July\", 8: \"August\",\n",
    "    9: \"September\", 10: \"October\", 11: \"November\", 12: \"December\"\n",
    "}\n",
    "\n",
    "# Apply mapping\n",
    "sample_data['crash_month'] = sample_data['crash_month'].map(month_map)\n",
    "\n",
    "# Chronological order (Jan → Dec)\n",
    "month_order = list(month_map.values())\n",
    "\n",
    "# Plot with order\n",
    "sns.countplot(\n",
    "    data=merged_df,\n",
    "    x='crash_month',\n",
    "    order=month_order,\n",
    "    palette=\"crest\"\n",
    ")\n",
    "plt.title(\"Crashes by Month\")\n",
    "plt.xlabel(\"Month\")\n",
    "plt.ylabel(\"Number of Crashes\")\n",
    "plt.xticks(rotation=45)\n",
    "plt.show()\n"
   ]
  },
  {
   "cell_type": "code",
   "execution_count": null,
   "id": "4e285f63",
   "metadata": {},
   "outputs": [],
   "source": [
    "# Consideirng the deverity of the crashes\n",
    "# The most severe injuries\n",
    "plot_categorical(sample_data['most_severe_injury'])"
   ]
  },
  {
   "cell_type": "code",
   "execution_count": null,
   "id": "462a3ef8",
   "metadata": {},
   "outputs": [],
   "source": [
    "plot_categorical(sample_data['damage'])"
   ]
  },
  {
   "cell_type": "code",
   "execution_count": null,
   "id": "76908b14",
   "metadata": {},
   "outputs": [],
   "source": [
    "# An assessment of the weather conditions and when most accidents occured\n",
    "\n",
    "plot_categorical(merged_df['weather_condition'])"
   ]
  },
  {
   "cell_type": "code",
   "execution_count": null,
   "id": "2cd0c752",
   "metadata": {},
   "outputs": [],
   "source": [
    "# An assessment of the lighting conditions when most accidents occured\n",
    "\n",
    "plot_categorical(merged_df['lighting_condition'])"
   ]
  },
  {
   "cell_type": "code",
   "execution_count": null,
   "id": "e7ccf11b",
   "metadata": {},
   "outputs": [],
   "source": [
    "# The existence of traffic controls whenever accidents occurred\n",
    "\n",
    "plot_categorical(merged_df['traffic_control_device'])"
   ]
  },
  {
   "cell_type": "code",
   "execution_count": null,
   "id": "6ff65827",
   "metadata": {},
   "outputs": [],
   "source": [
    "# The road surface conditions whenever accidents occured and when most accidents occurred\n",
    "\n",
    "plot_categorical(merged_df['roadway_surface_cond'])"
   ]
  },
  {
   "cell_type": "code",
   "execution_count": null,
   "id": "1ac79f7b",
   "metadata": {},
   "outputs": [],
   "source": [
    "\n",
    "\n",
    "plot_categorical(merged_df['prim_contributory_cause'])"
   ]
  },
  {
   "cell_type": "code",
   "execution_count": null,
   "id": "44b18071",
   "metadata": {},
   "outputs": [],
   "source": [
    "# An assessment of the gender that led to the most accidents\n",
    "\n",
    "plot_categorical(merged_df['sex'])"
   ]
  },
  {
   "cell_type": "code",
   "execution_count": null,
   "id": "6f554ee9",
   "metadata": {},
   "outputs": [],
   "source": [
    "# Getting an assessment of the ages of people involved in the accidents\n",
    "\n",
    "plot_numeric(merged_df[merged_df['age'] > 0]['age'], bins=10)"
   ]
  },
  {
   "cell_type": "code",
   "execution_count": null,
   "id": "465c41f8",
   "metadata": {},
   "outputs": [],
   "source": [
    "# Instances when the people involved in accidents had worn safety equipment\n",
    "\n",
    "plot_categorical(merged_df['safety_equipment'])"
   ]
  },
  {
   "cell_type": "code",
   "execution_count": null,
   "id": "bbfb3fb6",
   "metadata": {},
   "outputs": [],
   "source": [
    "# Whether or not BAC tests were administered\n",
    "\n",
    "plot_categorical(merged_df['bac_result'])"
   ]
  },
  {
   "cell_type": "code",
   "execution_count": null,
   "id": "04a582a8",
   "metadata": {},
   "outputs": [],
   "source": [
    "# The type of vehicle involved in an accident\n",
    "\n",
    "plot_categorical(merged_df['vehicle_type'])"
   ]
  },
  {
   "cell_type": "code",
   "execution_count": null,
   "id": "4b3f92b9",
   "metadata": {},
   "outputs": [],
   "source": [
    "# Whether or not the vehicle had any defects\n",
    "\n",
    "plot_categorical(merged_df['vehicle_defect'])"
   ]
  },
  {
   "cell_type": "markdown",
   "id": "56b6f028",
   "metadata": {},
   "source": [
    "# Bivariate Analysis\n",
    "\n",
    "## An assessment of the relationship between features.\n",
    "### For this section I will majorly focus on elements that majorly align with my problem statement."
   ]
  },
  {
   "cell_type": "code",
   "execution_count": null,
   "id": "afd563e0",
   "metadata": {},
   "outputs": [],
   "source": [
    "# Age vs injury classification \n",
    "\n",
    "plt.figure(figsize=(10,6))\n",
    "sns.boxplot(data=sample_data, x='injury_classification', y='age')\n",
    "plt.title(\"Driver Age vs Injury Classification\")\n",
    "plt.xticks(rotation=45)\n",
    "plt.tight_layout()\n",
    "plt.show()"
   ]
  },
  {
   "cell_type": "code",
   "execution_count": null,
   "id": "c8677347",
   "metadata": {},
   "outputs": [],
   "source": [
    "# An assessment of the vehicle type vs injury classification\n",
    "plt.figure(figsize=(12,6))\n",
    "sns.countplot(data=sample_data, x='vehicle_type', hue='injury_classification',\n",
    "              order=sample_data['vehicle_type'].value_counts().iloc[:10].index)\n",
    "plt.xticks(rotation=45)\n",
    "plt.title(\"Vehicle Type vs Injury Classification\")\n",
    "plt.show()"
   ]
  },
  {
   "cell_type": "code",
   "execution_count": null,
   "id": "f6991764",
   "metadata": {},
   "outputs": [],
   "source": [
    "# An assessment of the relationship between alcoholism and injury\n",
    "plt.figure(figsize=(8,5))\n",
    "sns.countplot(data=sample_data, x='bac_result', hue='injury_classification')\n",
    "plt.title(\"ALCOHOL (BAC) Result vs Injury Classification\")\n",
    "plt.xticks(rotation=45)\n",
    "plt.show()"
   ]
  },
  {
   "cell_type": "code",
   "execution_count": null,
   "id": "de5ae7c4",
   "metadata": {},
   "outputs": [],
   "source": [
    "# Your crash_hour is already in the right format - just use it directly!\n",
    "simple_grouped = merged_df.groupby('crash_hour').size()\n",
    "\n",
    "# Create the plot\n",
    "plt.figure(figsize=(12, 6))\n",
    "simple_grouped.plot(kind='bar')\n",
    "plt.title('Traffic Crashes by Hour of Day')\n",
    "plt.xlabel('Hour (24-hour format)')\n",
    "plt.ylabel('Number of Crashes')\n",
    "plt.xticks(rotation=0)\n",
    "plt.tight_layout()\n",
    "plt.show()"
   ]
  },
  {
   "cell_type": "markdown",
   "id": "d2af79fc",
   "metadata": {},
   "source": [
    "# Multivariate Analysis\n",
    "### Interactions between multiple variables\n",
    "\n"
   ]
  },
  {
   "cell_type": "code",
   "execution_count": null,
   "id": "985fbc11",
   "metadata": {},
   "outputs": [],
   "source": [
    "# Considering Vehicle Year, Age, and Injury\n",
    "\n",
    "plt.figure(figsize=(12,6))\n",
    "sns.scatterplot(data=sample_data, x='vehicle_year', y='age', hue='injury_classification', alpha=0.6)\n",
    "plt.title(\"Vehicle Year vs Age colored by Injury Classification\")\n",
    "plt.show();"
   ]
  },
  {
   "cell_type": "markdown",
   "id": "163a19af",
   "metadata": {},
   "source": [
    "# A correlation Heatmap of the numerical features"
   ]
  },
  {
   "cell_type": "code",
   "execution_count": null,
   "id": "85f97d39",
   "metadata": {},
   "outputs": [],
   "source": [
    "plt.figure(figsize=(10,7))\n",
    "sns.heatmap(sample_data[['age','num_passengers','vehicle_year','occupant_cnt']].corr(), annot=True, cmap=\"coolwarm\")\n",
    "plt.title(\"Correlation Heatmap of Numerical Features\")\n",
    "plt.show();"
   ]
  },
  {
   "cell_type": "markdown",
   "id": "c9ec87c1",
   "metadata": {},
   "source": []
  },
  {
   "cell_type": "code",
   "execution_count": null,
   "id": "dafe0db3",
   "metadata": {},
   "outputs": [],
   "source": []
  },
  {
   "cell_type": "markdown",
   "id": "591518ba",
   "metadata": {},
   "source": []
  },
  {
   "cell_type": "code",
   "execution_count": null,
   "id": "a47e4624",
   "metadata": {},
   "outputs": [],
   "source": []
  },
  {
   "cell_type": "markdown",
   "id": "3b590259",
   "metadata": {},
   "source": []
  },
  {
   "cell_type": "code",
   "execution_count": null,
   "id": "5d8e3f6e",
   "metadata": {},
   "outputs": [],
   "source": [
    "\n"
   ]
  },
  {
   "cell_type": "code",
   "execution_count": null,
   "id": "97c216bd",
   "metadata": {},
   "outputs": [],
   "source": []
  },
  {
   "cell_type": "markdown",
   "id": "9574f42b",
   "metadata": {},
   "source": []
  },
  {
   "cell_type": "code",
   "execution_count": null,
   "id": "7a5bb3aa",
   "metadata": {},
   "outputs": [],
   "source": []
  },
  {
   "cell_type": "markdown",
   "id": "eabda2a2",
   "metadata": {},
   "source": []
  },
  {
   "cell_type": "code",
   "execution_count": null,
   "id": "f586a3a6",
   "metadata": {},
   "outputs": [],
   "source": []
  },
  {
   "cell_type": "code",
   "execution_count": null,
   "id": "f4bd76cc",
   "metadata": {},
   "outputs": [],
   "source": []
  },
  {
   "cell_type": "code",
   "execution_count": null,
   "id": "015f9c0f",
   "metadata": {},
   "outputs": [],
   "source": []
  },
  {
   "cell_type": "code",
   "execution_count": null,
   "id": "d2fe3792",
   "metadata": {},
   "outputs": [],
   "source": []
  },
  {
   "cell_type": "markdown",
   "id": "bcc3c63f",
   "metadata": {},
   "source": []
  },
  {
   "cell_type": "code",
   "execution_count": null,
   "id": "02effe7a",
   "metadata": {},
   "outputs": [],
   "source": []
  },
  {
   "cell_type": "markdown",
   "id": "cb7710fb",
   "metadata": {},
   "source": []
  },
  {
   "cell_type": "markdown",
   "id": "e6c1275f",
   "metadata": {},
   "source": []
  },
  {
   "cell_type": "markdown",
   "id": "86aa71fb",
   "metadata": {},
   "source": []
  },
  {
   "cell_type": "markdown",
   "id": "a45d833a",
   "metadata": {},
   "source": []
  },
  {
   "cell_type": "code",
   "execution_count": null,
   "id": "6dee1385",
   "metadata": {},
   "outputs": [],
   "source": []
  },
  {
   "cell_type": "code",
   "execution_count": null,
   "id": "28c37c18",
   "metadata": {},
   "outputs": [],
   "source": []
  },
  {
   "cell_type": "code",
   "execution_count": null,
   "id": "22833f9a",
   "metadata": {},
   "outputs": [],
   "source": []
  },
  {
   "cell_type": "code",
   "execution_count": null,
   "id": "3197d83d",
   "metadata": {},
   "outputs": [],
   "source": []
  },
  {
   "cell_type": "markdown",
   "id": "9ca810e0",
   "metadata": {},
   "source": []
  },
  {
   "cell_type": "markdown",
   "id": "0dc67493",
   "metadata": {},
   "source": []
  },
  {
   "cell_type": "code",
   "execution_count": null,
   "id": "28182649",
   "metadata": {},
   "outputs": [],
   "source": []
  },
  {
   "cell_type": "code",
   "execution_count": null,
   "id": "b5b257bb",
   "metadata": {},
   "outputs": [],
   "source": []
  },
  {
   "cell_type": "code",
   "execution_count": null,
   "id": "89261497",
   "metadata": {},
   "outputs": [],
   "source": []
  },
  {
   "cell_type": "code",
   "execution_count": null,
   "id": "666313b6",
   "metadata": {},
   "outputs": [],
   "source": []
  },
  {
   "cell_type": "markdown",
   "id": "5998507e",
   "metadata": {},
   "source": []
  },
  {
   "cell_type": "code",
   "execution_count": null,
   "id": "81d4f8d0",
   "metadata": {},
   "outputs": [],
   "source": []
  },
  {
   "cell_type": "code",
   "execution_count": null,
   "id": "1cc05863",
   "metadata": {},
   "outputs": [],
   "source": []
  },
  {
   "cell_type": "code",
   "execution_count": null,
   "id": "31f95999",
   "metadata": {},
   "outputs": [],
   "source": []
  },
  {
   "cell_type": "markdown",
   "id": "744a0614",
   "metadata": {},
   "source": []
  },
  {
   "cell_type": "markdown",
   "id": "d0b219e1",
   "metadata": {},
   "source": []
  },
  {
   "cell_type": "markdown",
   "id": "3c796a93",
   "metadata": {},
   "source": []
  },
  {
   "cell_type": "markdown",
   "id": "3c339662",
   "metadata": {},
   "source": []
  },
  {
   "cell_type": "code",
   "execution_count": null,
   "id": "eb0930d4",
   "metadata": {},
   "outputs": [],
   "source": [
    "\n"
   ]
  },
  {
   "cell_type": "code",
   "execution_count": null,
   "id": "b1f96877",
   "metadata": {},
   "outputs": [],
   "source": []
  }
 ],
 "metadata": {
  "kernelspec": {
   "display_name": "Python 3 (ipykernel)",
   "language": "python",
   "name": "python3"
  },
  "language_info": {
   "codemirror_mode": {
    "name": "ipython",
    "version": 3
   },
   "file_extension": ".py",
   "mimetype": "text/x-python",
   "name": "python",
   "nbconvert_exporter": "python",
   "pygments_lexer": "ipython3",
   "version": "3.11.11"
  }
 },
 "nbformat": 4,
 "nbformat_minor": 5
}
